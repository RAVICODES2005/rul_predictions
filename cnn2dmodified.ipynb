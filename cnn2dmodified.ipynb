{
 "cells": [
  {
   "cell_type": "code",
   "execution_count": 1,
   "metadata": {},
   "outputs": [
    {
     "name": "stdout",
     "output_type": "stream",
     "text": [
      "Using device: cuda\n"
     ]
    }
   ],
   "source": [
    "import pandas as pd\n",
    "import numpy as np\n",
    "import matplotlib.pyplot as plt\n",
    "import seaborn as sns\n",
    "import torch\n",
    "import torch.nn as nn\n",
    "import torch.optim as optim\n",
    "from torch.utils.data import Dataset, DataLoader\n",
    "from sklearn.preprocessing import StandardScaler\n",
    "from sklearn.metrics import mean_squared_error, r2_score, mean_absolute_error\n",
    "from tqdm import tqdm\n",
    "\n",
    "# Set device for PyTorch\n",
    "device = torch.device(\"cuda\" if torch.cuda.is_available() else \"cpu\")\n",
    "print(f\"Using device: {device}\")"
   ]
  },
  {
   "cell_type": "code",
   "execution_count": 2,
   "metadata": {},
   "outputs": [
    {
     "name": "stdout",
     "output_type": "stream",
     "text": [
      "Processed train_FD001.txt, number of rows: 20631\n",
      "Processed train_FD002.txt, number of rows: 53759\n",
      "Processed train_FD003.txt, number of rows: 24720\n",
      "Processed train_FD004.txt, number of rows: 61249\n",
      "\n",
      "Combined Training Data Head:\n",
      "   unit_number  time_in_cycles  setting_1  setting_2     T24      T30  \\\n",
      "0            1               1    -0.0007    -0.0004  641.82  1589.70   \n",
      "1            1               2     0.0019    -0.0003  642.15  1591.82   \n",
      "2            1               3    -0.0043     0.0003  642.35  1587.99   \n",
      "3            1               4     0.0007     0.0000  642.35  1582.79   \n",
      "4            1               5    -0.0019    -0.0002  642.37  1582.85   \n",
      "\n",
      "       T50    P15     P30       Nf  ...     phi      NRf      NRc     BPR  \\\n",
      "0  1400.60  21.61  554.36  2388.06  ...  521.66  2388.02  8138.62  8.4195   \n",
      "1  1403.14  21.61  553.75  2388.04  ...  522.28  2388.07  8131.49  8.4318   \n",
      "2  1404.20  21.61  554.26  2388.08  ...  522.42  2388.03  8133.23  8.4178   \n",
      "3  1401.87  21.61  554.45  2388.11  ...  522.86  2388.08  8133.83  8.3682   \n",
      "4  1406.22  21.61  554.00  2388.06  ...  522.19  2388.04  8133.80  8.4294   \n",
      "\n",
      "   htBleed    W31      W32  dataset_id  Life_ratio engine_id  \n",
      "0      392  39.06  23.4190       FD001    0.005208   FD001_1  \n",
      "1      392  39.00  23.4236       FD001    0.010417   FD001_1  \n",
      "2      390  38.95  23.3442       FD001    0.015625   FD001_1  \n",
      "3      392  38.88  23.3739       FD001    0.020833   FD001_1  \n",
      "4      393  38.90  23.4044       FD001    0.026042   FD001_1  \n",
      "\n",
      "[5 rows x 22 columns]\n"
     ]
    }
   ],
   "source": [
    "# Define column names and columns to drop\n",
    "columns = ['unit_number', 'time_in_cycles', 'setting_1', 'setting_2', 'TRA', 'T2', 'T24', 'T30', 'T50', 'P2', 'P15', 'P30', 'Nf',\n",
    "           'Nc', 'epr', 'Ps30', 'phi', 'NRf', 'NRc', 'BPR', 'farB', 'htBleed', 'Nf_dmd', 'PCNfR_dmd', 'W31', 'W32']\n",
    "drop_cols = ['Nf_dmd', 'PCNfR_dmd', 'P2', 'T2', 'TRA', 'farB', 'epr']\n",
    "\n",
    "# Process and combine all training datasets\n",
    "train_data_processed = []\n",
    "for i in range(1, 5):\n",
    "    dataset_id = f'FD00{i}'\n",
    "    \n",
    "    # Read data\n",
    "    train_df = pd.read_csv(f\"train_{dataset_id}.txt\", sep=\" \", header=None)\n",
    "    train_df.drop(columns=[26, 27], inplace=True)\n",
    "    train_df.columns = columns\n",
    "    \n",
    "    # Drop unnecessary sensor columns\n",
    "    train_df.drop(columns=drop_cols, inplace=True)\n",
    "    \n",
    "    # Add dataset_id column\n",
    "    train_df['dataset_id'] = dataset_id\n",
    "    \n",
    "    # Calculate Life Ratio (from 0 at new to 1 at failure)\n",
    "    eol = train_df.groupby('unit_number')['time_in_cycles'].transform('max')\n",
    "    train_df['Life_ratio'] = train_df['time_in_cycles'] / eol\n",
    "    \n",
    "    train_data_processed.append(train_df)\n",
    "    print(f\"Processed train_{dataset_id}.txt, number of rows: {train_df.shape[0]}\")\n",
    "\n",
    "# Concatenate all training data into a single DataFrame\n",
    "train_df_all = pd.concat(train_data_processed, ignore_index=True)\n",
    "\n",
    "# Create a unique engine_id for each engine across all datasets\n",
    "train_df_all['engine_id'] = train_df_all['dataset_id'].astype(str) + '_' + train_df_all['unit_number'].astype(str)\n",
    "\n",
    "print(\"\\nCombined Training Data Head:\")\n",
    "print(train_df_all.head())"
   ]
  },
  {
   "cell_type": "code",
   "execution_count": 3,
   "metadata": {},
   "outputs": [
    {
     "name": "stdout",
     "output_type": "stream",
     "text": [
      "Processed test_FD001.txt, number of rows: 13096\n",
      "Processed test_FD002.txt, number of rows: 33991\n",
      "Processed test_FD003.txt, number of rows: 16596\n",
      "Processed test_FD004.txt, number of rows: 41214\n",
      "\n",
      "Combined Test Data Head:\n",
      "   unit_number  time_in_cycles  setting_1  setting_2     T24      T30  \\\n",
      "0            1               1     0.0023     0.0003  643.02  1585.29   \n",
      "1            1               2    -0.0027    -0.0003  641.71  1588.45   \n",
      "2            1               3     0.0003     0.0001  642.46  1586.94   \n",
      "3            1               4     0.0042     0.0000  642.44  1584.12   \n",
      "4            1               5     0.0014     0.0000  642.51  1587.19   \n",
      "\n",
      "       T50    P15     P30       Nf  ...     phi      NRf      NRc     BPR  \\\n",
      "0  1398.21  21.61  553.90  2388.04  ...  521.72  2388.03  8125.55  8.4052   \n",
      "1  1395.42  21.61  554.85  2388.01  ...  522.16  2388.06  8139.62  8.3803   \n",
      "2  1401.34  21.61  554.11  2388.05  ...  521.97  2388.03  8130.10  8.4441   \n",
      "3  1406.42  21.61  554.07  2388.03  ...  521.38  2388.05  8132.90  8.3917   \n",
      "4  1401.92  21.61  554.16  2388.01  ...  522.15  2388.03  8129.54  8.4031   \n",
      "\n",
      "   htBleed    W31      W32  dataset_id  Life_ratio engine_id  \n",
      "0      392  38.86  23.3735       FD001    0.006993   FD001_1  \n",
      "1      393  39.02  23.3916       FD001    0.013986   FD001_1  \n",
      "2      393  39.08  23.4166       FD001    0.020979   FD001_1  \n",
      "3      391  39.00  23.3737       FD001    0.027972   FD001_1  \n",
      "4      390  38.99  23.4130       FD001    0.034965   FD001_1  \n",
      "\n",
      "[5 rows x 22 columns]\n"
     ]
    }
   ],
   "source": [
    "# Process and combine all test datasets\n",
    "test_data_processed = []\n",
    "for i in range(1, 5):\n",
    "    dataset_id = f'FD00{i}'\n",
    "    \n",
    "    # Read data\n",
    "    test_df = pd.read_csv(f\"test_{dataset_id}.txt\", sep=\" \", header=None)\n",
    "    rul_df = pd.read_csv(f\"RUL_{dataset_id}.txt\", sep=\" \", header=None)\n",
    "    \n",
    "    test_df.drop(columns=[26, 27], inplace=True)\n",
    "    test_df.columns = columns\n",
    "    \n",
    "    # Drop unnecessary sensor columns\n",
    "    test_df.drop(columns=drop_cols, inplace=True)\n",
    "    \n",
    "    # Add dataset_id column\n",
    "    test_df['dataset_id'] = dataset_id\n",
    "    \n",
    "    # --- Corrected Life Ratio Calculation for Test Data ---\n",
    "    # Get the max cycle for each engine in the test set\n",
    "    max_cycles_test = test_df.groupby('unit_number')['time_in_cycles'].transform('max')\n",
    "    \n",
    "    # Map the final RUL values from rul_df to each engine in test_df\n",
    "    final_rul = test_df['unit_number'].apply(lambda unit: rul_df.iloc[unit - 1, 0])\n",
    "    \n",
    "    # Calculate total life and then the Life Ratio\n",
    "    total_life = max_cycles_test + final_rul\n",
    "    test_df['Life_ratio'] = test_df['time_in_cycles'] / total_life\n",
    "    \n",
    "    test_data_processed.append(test_df)\n",
    "    print(f\"Processed test_{dataset_id}.txt, number of rows: {test_df.shape[0]}\")\n",
    "\n",
    "# Concatenate all test data into a single DataFrame\n",
    "test_df_all = pd.concat(test_data_processed, ignore_index=True)\n",
    "\n",
    "# Create a unique engine_id\n",
    "test_df_all['engine_id'] = test_df_all['dataset_id'].astype(str) + '_' + test_df_all['unit_number'].astype(str)\n",
    "\n",
    "# Keep an unscaled version for plotting later\n",
    "test_df_unscaled = test_df_all.copy()\n",
    "\n",
    "print(\"\\nCombined Test Data Head:\")\n",
    "print(test_df_all.head())"
   ]
  },
  {
   "cell_type": "code",
   "execution_count": 4,
   "metadata": {},
   "outputs": [
    {
     "name": "stdout",
     "output_type": "stream",
     "text": [
      "Feature columns scaled: ['setting_1', 'setting_2', 'T24', 'T30', 'T50', 'P15', 'P30', 'Nf', 'Nc', 'Ps30', 'phi', 'NRf', 'NRc', 'BPR', 'htBleed', 'W31', 'W32']\n",
      "\n",
      "Scaled Training Data Head:\n",
      "   unit_number  time_in_cycles  setting_1  setting_2       T24       T30  \\\n",
      "0            1               1  -1.041429  -1.115418  1.046626  1.037990   \n",
      "1            1               2  -1.041272  -1.115146  1.054395  1.055929   \n",
      "2            1               3  -1.041647  -1.113516  1.059103  1.023520   \n",
      "3            1               4  -1.041344  -1.114331  1.059103  0.979517   \n",
      "4            1               5  -1.041502  -1.114874  1.059574  0.980025   \n",
      "\n",
      "        T50       P15       P30        Nf  ...       phi       NRf       NRc  \\\n",
      "0  1.024534  1.115018  1.117707  0.802032  ...  1.113752  0.345200  0.616065   \n",
      "1  1.043169  1.115018  1.114204  0.801891  ...  1.117528  0.345649  0.527629   \n",
      "2  1.050946  1.115018  1.117133  0.802172  ...  1.118380  0.345289  0.549211   \n",
      "3  1.033851  1.115018  1.118224  0.802383  ...  1.121060  0.345739  0.556653   \n",
      "4  1.065766  1.115018  1.115640  0.802032  ...  1.116979  0.345379  0.556281   \n",
      "\n",
      "        BPR   htBleed       W31       W32  dataset_id  Life_ratio engine_id  \n",
      "0 -0.845217  1.009022  1.121962  1.119494       FD001    0.005208   FD001_1  \n",
      "1 -0.828851  1.009022  1.116830  1.120150       FD001    0.010417   FD001_1  \n",
      "2 -0.847479  0.944550  1.112553  1.108831       FD001    0.015625   FD001_1  \n",
      "3 -0.913473  1.009022  1.106566  1.113065       FD001    0.020833   FD001_1  \n",
      "4 -0.832044  1.041258  1.108277  1.117413       FD001    0.026042   FD001_1  \n",
      "\n",
      "[5 rows x 22 columns]\n"
     ]
    }
   ],
   "source": [
    "# Identify feature columns (excluding identifiers and the target)\n",
    "feature_cols = [col for col in train_df_all.columns if col not in ['Life_ratio', 'dataset_id', 'engine_id', 'unit_number', 'time_in_cycles']]\n",
    "\n",
    "# Initialize and fit the scaler on the training data\n",
    "scaler = StandardScaler()\n",
    "train_df_all[feature_cols] = scaler.fit_transform(train_df_all[feature_cols])\n",
    "\n",
    "# Transform the test data using the same scaler\n",
    "test_df_all[feature_cols] = scaler.transform(test_df_all[feature_cols])\n",
    "\n",
    "print(\"Feature columns scaled:\", feature_cols)\n",
    "print(\"\\nScaled Training Data Head:\")\n",
    "print(train_df_all.head())"
   ]
  },
  {
   "cell_type": "code",
   "execution_count": 5,
   "metadata": {},
   "outputs": [
    {
     "name": "stderr",
     "output_type": "stream",
     "text": [
      "Creating Sequences: 100%|██████████| 709/709 [00:04<00:00, 156.44it/s]\n",
      "Creating Sequences: 100%|██████████| 707/707 [00:03<00:00, 226.29it/s]\n"
     ]
    },
    {
     "name": "stdout",
     "output_type": "stream",
     "text": [
      "\n",
      "X_train shape: (153978, 10, 19)\n",
      "y_train shape: (153978,)\n",
      "X_test shape: (98534, 10, 19)\n",
      "y_test shape: (98534,)\n"
     ]
    }
   ],
   "source": [
    "def create_sequences(input_data, window_size):\n",
    "    \"\"\"Creates sequences from the time-series data.\"\"\"\n",
    "    X, y = [], []\n",
    "    \n",
    "    # Columns to use as features for the model\n",
    "    model_feature_cols = [col for col in input_data.columns if col not in ['Life_ratio', 'dataset_id', 'engine_id']]\n",
    "\n",
    "    for engine in tqdm(input_data['engine_id'].unique(), desc=\"Creating Sequences\"):\n",
    "        engine_data = input_data[input_data['engine_id'] == engine]\n",
    "        \n",
    "        # Ensure we only use the feature columns for X\n",
    "        engine_features = engine_data[model_feature_cols].values\n",
    "        engine_target = engine_data['Life_ratio'].values\n",
    "        \n",
    "        for i in range(len(engine_data) - window_size + 1):\n",
    "            X.append(engine_features[i:i + window_size])\n",
    "            y.append(engine_target[i + window_size - 1])\n",
    "            \n",
    "    return np.array(X), np.array(y)\n",
    "\n",
    "# Define window size\n",
    "win_len = 10\n",
    "\n",
    "# Create sequences for training and testing\n",
    "X_train, y_train = create_sequences(train_df_all, win_len)\n",
    "X_test, y_test = create_sequences(test_df_all, win_len)\n",
    "\n",
    "print(f\"\\nX_train shape: {X_train.shape}\")\n",
    "print(f\"y_train shape: {y_train.shape}\")\n",
    "print(f\"X_test shape: {X_test.shape}\")\n",
    "print(f\"y_test shape: {y_test.shape}\")"
   ]
  },
  {
   "cell_type": "code",
   "execution_count": 6,
   "metadata": {},
   "outputs": [
    {
     "name": "stderr",
     "output_type": "stream",
     "text": [
      "Epoch 1/30: 100%|██████████| 2406/2406 [00:14<00:00, 168.60it/s, loss=0.0156] \n"
     ]
    },
    {
     "name": "stdout",
     "output_type": "stream",
     "text": [
      "Epoch [1/30], Loss: 0.015592, Test RMSE: 0.121452\n",
      "✅ New best model saved with Test RMSE: 0.121452\n"
     ]
    },
    {
     "name": "stderr",
     "output_type": "stream",
     "text": [
      "Epoch 2/30: 100%|██████████| 2406/2406 [00:13<00:00, 182.64it/s, loss=0.015]  \n"
     ]
    },
    {
     "name": "stdout",
     "output_type": "stream",
     "text": [
      "Epoch [2/30], Loss: 0.015011, Test RMSE: 0.105147\n",
      "✅ New best model saved with Test RMSE: 0.105147\n"
     ]
    },
    {
     "name": "stderr",
     "output_type": "stream",
     "text": [
      "Epoch 3/30: 100%|██████████| 2406/2406 [00:13<00:00, 183.59it/s, loss=0.0135] \n"
     ]
    },
    {
     "name": "stdout",
     "output_type": "stream",
     "text": [
      "Epoch [3/30], Loss: 0.013535, Test RMSE: 0.161951\n"
     ]
    },
    {
     "name": "stderr",
     "output_type": "stream",
     "text": [
      "Epoch 4/30: 100%|██████████| 2406/2406 [00:12<00:00, 185.88it/s, loss=0.00991]\n"
     ]
    },
    {
     "name": "stdout",
     "output_type": "stream",
     "text": [
      "Epoch [4/30], Loss: 0.009913, Test RMSE: 0.145389\n"
     ]
    },
    {
     "name": "stderr",
     "output_type": "stream",
     "text": [
      "Epoch 5/30: 100%|██████████| 2406/2406 [00:13<00:00, 184.51it/s, loss=0.00798]\n"
     ]
    },
    {
     "name": "stdout",
     "output_type": "stream",
     "text": [
      "Epoch [5/30], Loss: 0.007978, Test RMSE: 0.206356\n"
     ]
    },
    {
     "name": "stderr",
     "output_type": "stream",
     "text": [
      "Epoch 6/30: 100%|██████████| 2406/2406 [00:12<00:00, 186.67it/s, loss=0.00712]\n"
     ]
    },
    {
     "name": "stdout",
     "output_type": "stream",
     "text": [
      "Epoch [6/30], Loss: 0.007125, Test RMSE: 0.082719\n",
      "✅ New best model saved with Test RMSE: 0.082719\n"
     ]
    },
    {
     "name": "stderr",
     "output_type": "stream",
     "text": [
      "Epoch 7/30: 100%|██████████| 2406/2406 [00:12<00:00, 187.94it/s, loss=0.00651]\n"
     ]
    },
    {
     "name": "stdout",
     "output_type": "stream",
     "text": [
      "Epoch [7/30], Loss: 0.006513, Test RMSE: 0.083581\n"
     ]
    },
    {
     "name": "stderr",
     "output_type": "stream",
     "text": [
      "Epoch 8/30: 100%|██████████| 2406/2406 [00:12<00:00, 185.73it/s, loss=0.00605]\n"
     ]
    },
    {
     "name": "stdout",
     "output_type": "stream",
     "text": [
      "Epoch [8/30], Loss: 0.006045, Test RMSE: 0.117558\n"
     ]
    },
    {
     "name": "stderr",
     "output_type": "stream",
     "text": [
      "Epoch 9/30: 100%|██████████| 2406/2406 [00:13<00:00, 184.52it/s, loss=0.00586]\n"
     ]
    },
    {
     "name": "stdout",
     "output_type": "stream",
     "text": [
      "Epoch [9/30], Loss: 0.005855, Test RMSE: 0.100151\n"
     ]
    },
    {
     "name": "stderr",
     "output_type": "stream",
     "text": [
      "Epoch 10/30: 100%|██████████| 2406/2406 [00:12<00:00, 185.88it/s, loss=0.00568]\n"
     ]
    },
    {
     "name": "stdout",
     "output_type": "stream",
     "text": [
      "Epoch [10/30], Loss: 0.005683, Test RMSE: 0.078899\n",
      "✅ New best model saved with Test RMSE: 0.078899\n"
     ]
    },
    {
     "name": "stderr",
     "output_type": "stream",
     "text": [
      "Epoch 11/30: 100%|██████████| 2406/2406 [00:12<00:00, 186.04it/s, loss=0.00553]\n"
     ]
    },
    {
     "name": "stdout",
     "output_type": "stream",
     "text": [
      "Epoch [11/30], Loss: 0.005533, Test RMSE: 0.139422\n"
     ]
    },
    {
     "name": "stderr",
     "output_type": "stream",
     "text": [
      "Epoch 12/30: 100%|██████████| 2406/2406 [00:12<00:00, 185.92it/s, loss=0.00544]\n"
     ]
    },
    {
     "name": "stdout",
     "output_type": "stream",
     "text": [
      "Epoch [12/30], Loss: 0.005438, Test RMSE: 0.098169\n"
     ]
    },
    {
     "name": "stderr",
     "output_type": "stream",
     "text": [
      "Epoch 13/30: 100%|██████████| 2406/2406 [00:12<00:00, 185.17it/s, loss=0.00537]\n"
     ]
    },
    {
     "name": "stdout",
     "output_type": "stream",
     "text": [
      "Epoch [13/30], Loss: 0.005370, Test RMSE: 0.087123\n"
     ]
    },
    {
     "name": "stderr",
     "output_type": "stream",
     "text": [
      "Epoch 14/30: 100%|██████████| 2406/2406 [00:12<00:00, 187.70it/s, loss=0.00522]\n"
     ]
    },
    {
     "name": "stdout",
     "output_type": "stream",
     "text": [
      "Epoch [14/30], Loss: 0.005222, Test RMSE: 0.105846\n"
     ]
    },
    {
     "name": "stderr",
     "output_type": "stream",
     "text": [
      "Epoch 15/30: 100%|██████████| 2406/2406 [00:13<00:00, 183.76it/s, loss=0.00515]\n"
     ]
    },
    {
     "name": "stdout",
     "output_type": "stream",
     "text": [
      "Epoch [15/30], Loss: 0.005151, Test RMSE: 0.075169\n",
      "✅ New best model saved with Test RMSE: 0.075169\n"
     ]
    },
    {
     "name": "stderr",
     "output_type": "stream",
     "text": [
      "Epoch 16/30: 100%|██████████| 2406/2406 [00:13<00:00, 181.61it/s, loss=0.00513]\n"
     ]
    },
    {
     "name": "stdout",
     "output_type": "stream",
     "text": [
      "Epoch [16/30], Loss: 0.005134, Test RMSE: 0.076938\n"
     ]
    },
    {
     "name": "stderr",
     "output_type": "stream",
     "text": [
      "Epoch 17/30: 100%|██████████| 2406/2406 [00:13<00:00, 183.34it/s, loss=0.00505]\n"
     ]
    },
    {
     "name": "stdout",
     "output_type": "stream",
     "text": [
      "Epoch [17/30], Loss: 0.005047, Test RMSE: 0.081042\n"
     ]
    },
    {
     "name": "stderr",
     "output_type": "stream",
     "text": [
      "Epoch 18/30: 100%|██████████| 2406/2406 [00:12<00:00, 186.09it/s, loss=0.00497]\n"
     ]
    },
    {
     "name": "stdout",
     "output_type": "stream",
     "text": [
      "Epoch [18/30], Loss: 0.004970, Test RMSE: 0.075382\n"
     ]
    },
    {
     "name": "stderr",
     "output_type": "stream",
     "text": [
      "Epoch 19/30: 100%|██████████| 2406/2406 [00:13<00:00, 184.08it/s, loss=0.00498]\n"
     ]
    },
    {
     "name": "stdout",
     "output_type": "stream",
     "text": [
      "Epoch [19/30], Loss: 0.004979, Test RMSE: 0.083491\n"
     ]
    },
    {
     "name": "stderr",
     "output_type": "stream",
     "text": [
      "Epoch 20/30: 100%|██████████| 2406/2406 [00:12<00:00, 185.57it/s, loss=0.00491]\n"
     ]
    },
    {
     "name": "stdout",
     "output_type": "stream",
     "text": [
      "Epoch [20/30], Loss: 0.004912, Test RMSE: 0.074419\n",
      "✅ New best model saved with Test RMSE: 0.074419\n"
     ]
    },
    {
     "name": "stderr",
     "output_type": "stream",
     "text": [
      "Epoch 21/30: 100%|██████████| 2406/2406 [00:12<00:00, 185.91it/s, loss=0.0049] \n"
     ]
    },
    {
     "name": "stdout",
     "output_type": "stream",
     "text": [
      "Epoch [21/30], Loss: 0.004904, Test RMSE: 0.079023\n"
     ]
    },
    {
     "name": "stderr",
     "output_type": "stream",
     "text": [
      "Epoch 22/30: 100%|██████████| 2406/2406 [00:13<00:00, 173.09it/s, loss=0.00488]\n"
     ]
    },
    {
     "name": "stdout",
     "output_type": "stream",
     "text": [
      "Epoch [22/30], Loss: 0.004875, Test RMSE: 0.079841\n"
     ]
    },
    {
     "name": "stderr",
     "output_type": "stream",
     "text": [
      "Epoch 23/30: 100%|██████████| 2406/2406 [00:14<00:00, 161.08it/s, loss=0.00485]\n"
     ]
    },
    {
     "name": "stdout",
     "output_type": "stream",
     "text": [
      "Epoch [23/30], Loss: 0.004849, Test RMSE: 0.107609\n"
     ]
    },
    {
     "name": "stderr",
     "output_type": "stream",
     "text": [
      "Epoch 24/30: 100%|██████████| 2406/2406 [00:12<00:00, 185.71it/s, loss=0.00479]\n"
     ]
    },
    {
     "name": "stdout",
     "output_type": "stream",
     "text": [
      "Epoch [24/30], Loss: 0.004786, Test RMSE: 0.074676\n"
     ]
    },
    {
     "name": "stderr",
     "output_type": "stream",
     "text": [
      "Epoch 25/30: 100%|██████████| 2406/2406 [00:13<00:00, 185.03it/s, loss=0.00476]\n"
     ]
    },
    {
     "name": "stdout",
     "output_type": "stream",
     "text": [
      "Epoch [25/30], Loss: 0.004764, Test RMSE: 0.079318\n"
     ]
    },
    {
     "name": "stderr",
     "output_type": "stream",
     "text": [
      "Epoch 26/30: 100%|██████████| 2406/2406 [00:13<00:00, 184.41it/s, loss=0.00473]\n"
     ]
    },
    {
     "name": "stdout",
     "output_type": "stream",
     "text": [
      "Epoch [26/30], Loss: 0.004731, Test RMSE: 0.080651\n"
     ]
    },
    {
     "name": "stderr",
     "output_type": "stream",
     "text": [
      "Epoch 27/30: 100%|██████████| 2406/2406 [00:13<00:00, 184.44it/s, loss=0.00475]\n"
     ]
    },
    {
     "name": "stdout",
     "output_type": "stream",
     "text": [
      "Epoch [27/30], Loss: 0.004755, Test RMSE: 0.075529\n"
     ]
    },
    {
     "name": "stderr",
     "output_type": "stream",
     "text": [
      "Epoch 28/30: 100%|██████████| 2406/2406 [00:13<00:00, 184.25it/s, loss=0.00472]\n"
     ]
    },
    {
     "name": "stdout",
     "output_type": "stream",
     "text": [
      "Epoch [28/30], Loss: 0.004716, Test RMSE: 0.073923\n",
      "✅ New best model saved with Test RMSE: 0.073923\n"
     ]
    },
    {
     "name": "stderr",
     "output_type": "stream",
     "text": [
      "Epoch 29/30: 100%|██████████| 2406/2406 [00:13<00:00, 180.35it/s, loss=0.00469]\n"
     ]
    },
    {
     "name": "stdout",
     "output_type": "stream",
     "text": [
      "Epoch [29/30], Loss: 0.004686, Test RMSE: 0.079787\n"
     ]
    },
    {
     "name": "stderr",
     "output_type": "stream",
     "text": [
      "Epoch 30/30: 100%|██████████| 2406/2406 [00:13<00:00, 184.84it/s, loss=0.00467]\n"
     ]
    },
    {
     "name": "stdout",
     "output_type": "stream",
     "text": [
      "Epoch [30/30], Loss: 0.004670, Test RMSE: 0.081803\n"
     ]
    }
   ],
   "source": [
    "# 1. Dataset class\n",
    "class DegradationDataset(Dataset):\n",
    "    def __init__(self, X, y):\n",
    "        self.X = torch.tensor(X, dtype=torch.float32)\n",
    "        self.y = torch.tensor(y, dtype=torch.float32)\n",
    "\n",
    "    def __len__(self):\n",
    "        return len(self.X)\n",
    "\n",
    "    def __getitem__(self, idx):\n",
    "        return self.X[idx], self.y[idx].view(1)\n",
    "\n",
    "# 2. Neural Network model (2D CNN)\n",
    "class DegradationCNN2D(nn.Module):\n",
    "    def __init__(self, num_features):\n",
    "        super(DegradationCNN2D, self).__init__()\n",
    "        self.cnn = nn.Sequential(\n",
    "            nn.Conv2d(in_channels=1, out_channels=64, kernel_size=(3,3), padding=1),\n",
    "            nn.BatchNorm2d(64),\n",
    "            nn.LeakyReLU(),\n",
    "            nn.Conv2d(64, 64, kernel_size=(3,3), padding=1),\n",
    "            nn.BatchNorm2d(64),\n",
    "            nn.LeakyReLU(),\n",
    "            nn.Conv2d(64, 64, kernel_size=(3,3), padding=1),\n",
    "            nn.BatchNorm2d(64),\n",
    "            nn.LeakyReLU(),\n",
    "            nn.AdaptiveAvgPool2d((1, 1))\n",
    "        )\n",
    "        self.regressor = nn.Sequential(\n",
    "            nn.Flatten(),\n",
    "            nn.Linear(64, 64),\n",
    "            nn.LeakyReLU(),\n",
    "            nn.Linear(64, 1)\n",
    "        )\n",
    "\n",
    "    def forward(self, x):\n",
    "        x = x.unsqueeze(1) # -> (Batch, 1, Window, Features)\n",
    "        x = self.cnn(x)\n",
    "        x = self.regressor(x)\n",
    "        return x\n",
    "\n",
    "# 3. Dataset & Dataloader\n",
    "train_dataset = DegradationDataset(X_train, y_train)\n",
    "train_loader = DataLoader(train_dataset, batch_size=64, shuffle=True)\n",
    "\n",
    "test_dataset = DegradationDataset(X_test, y_test)\n",
    "test_loader = DataLoader(test_dataset, batch_size=64, shuffle=False)\n",
    "\n",
    "# 4. Training Setup\n",
    "num_features = X_train.shape[2]\n",
    "model = DegradationCNN2D(num_features).to(device)\n",
    "criterion = nn.MSELoss()\n",
    "optimizer = optim.AdamW(model.parameters(), lr=1e-3)\n",
    "\n",
    "# 5. Training Loop\n",
    "epochs = 30\n",
    "best_test_rmse = float('inf')\n",
    "\n",
    "for epoch in range(epochs):\n",
    "    model.train()\n",
    "    running_loss = 0.0\n",
    "    \n",
    "    pbar = tqdm(train_loader, desc=f\"Epoch {epoch+1}/{epochs}\")\n",
    "    for X_batch, y_batch in pbar:\n",
    "        X_batch, y_batch = X_batch.to(device), y_batch.to(device)\n",
    "        \n",
    "        optimizer.zero_grad()\n",
    "        outputs = model(X_batch)\n",
    "        loss = criterion(outputs, y_batch)\n",
    "        loss.backward()\n",
    "        optimizer.step()\n",
    "        \n",
    "        running_loss += loss.item()\n",
    "        pbar.set_postfix({'loss': running_loss/len(pbar)})\n",
    "    \n",
    "    # Evaluate on test data\n",
    "    model.eval()\n",
    "    all_preds = []\n",
    "    with torch.no_grad():\n",
    "        for X_batch, y_batch in test_loader:\n",
    "            outputs = model(X_batch.to(device))\n",
    "            all_preds.extend(outputs.cpu().numpy())\n",
    "    \n",
    "    test_preds = np.array(all_preds).flatten()\n",
    "    test_rmse = np.sqrt(mean_squared_error(y_test, test_preds))\n",
    "    print(f\"Epoch [{epoch+1}/{epochs}], Loss: {running_loss/len(train_loader):.6f}, Test RMSE: {test_rmse:.6f}\")\n",
    "\n",
    "    if test_rmse < best_test_rmse:\n",
    "        best_test_rmse = test_rmse\n",
    "        torch.save(model.state_dict(), 'best_model.pth')\n",
    "        print(f\"✅ New best model saved with Test RMSE: {best_test_rmse:.6f}\")"
   ]
  },
  {
   "cell_type": "code",
   "execution_count": 14,
   "metadata": {},
   "outputs": [
    {
     "name": "stderr",
     "output_type": "stream",
     "text": [
      "C:\\Users\\rsree\\AppData\\Local\\Temp\\ipykernel_10908\\2080504914.py:2: FutureWarning: You are using `torch.load` with `weights_only=False` (the current default value), which uses the default pickle module implicitly. It is possible to construct malicious pickle data which will execute arbitrary code during unpickling (See https://github.com/pytorch/pytorch/blob/main/SECURITY.md#untrusted-models for more details). In a future release, the default value for `weights_only` will be flipped to `True`. This limits the functions that could be executed during unpickling. Arbitrary objects will no longer be allowed to be loaded via this mode unless they are explicitly allowlisted by the user via `torch.serialization.add_safe_globals`. We recommend you start setting `weights_only=True` for any use case where you don't have full control of the loaded file. Please open an issue on GitHub for any issues related to this experimental feature.\n",
      "  model.load_state_dict(torch.load('best_model.pth'))\n",
      "Final Evaluation: 100%|██████████| 1540/1540 [00:02<00:00, 637.47it/s]\n"
     ]
    },
    {
     "name": "stdout",
     "output_type": "stream",
     "text": [
      "\n",
      "--- Final Model Performance Evaluation ---\n",
      "R-squared (R²) Score: 0.8959\n",
      "Mean Squared Error (MSE): 0.005465\n",
      "Root Mean Squared Error (RMSE): 0.073923\n",
      "Mean Absolute Error (MAE): 0.055868\n",
      "Custom Accuracy (10% Tolerance): 83.32%\n"
     ]
    },
    {
     "name": "stderr",
     "output_type": "stream",
     "text": [
      "Creating Sequences: 100%|██████████| 1/1 [00:00<00:00, 999.83it/s]\n"
     ]
    },
    {
     "data": {
      "image/png": "[encoded data removed]",
      "text/plain": [
       "<Figure size 1200x700 with 1 Axes>"
      ]
     },
     "metadata": {},
     "output_type": "display_data"
    }
   ],
   "source": [
    "\n",
    "\n",
    "# Load the best model for final evaluation\n",
    "model.load_state_dict(torch.load('best_model.pth'))\n",
    "model.to(device)\n",
    "model.eval()\n",
    "\n",
    "# Get predictions on the entire test set\n",
    "all_predictions = []\n",
    "all_true_labels = []\n",
    "\n",
    "with torch.no_grad():\n",
    "    for X_batch, y_batch in tqdm(test_loader, desc=\"Final Evaluation\"):\n",
    "        X_batch = X_batch.to(device)\n",
    "        outputs = model(X_batch)\n",
    "        all_predictions.append(outputs.cpu().numpy())\n",
    "        all_true_labels.append(y_batch.numpy())\n",
    "\n",
    "y_pred = np.concatenate(all_predictions).flatten()\n",
    "y_true = np.concatenate(all_true_labels).flatten()\n",
    "\n",
    "# --- Calculate All Metrics ---\n",
    "r2 = r2_score(y_true, y_pred)\n",
    "mse = mean_squared_error(y_true, y_pred)\n",
    "rmse = np.sqrt(mse)\n",
    "mae = mean_absolute_error(y_true, y_pred)\n",
    "custom_acc = np.mean(np.abs(y_pred - y_test) < 0.10) * 100 \n",
    "\n",
    "print(\"\\n--- Final Model Performance Evaluation ---\")\n",
    "print(f\"R-squared (R²) Score: {r2:.4f}\")\n",
    "print(f\"Mean Squared Error (MSE): {mse:.6f}\")\n",
    "print(f\"Root Mean Squared Error (RMSE): {rmse:.6f}\")\n",
    "print(f\"Mean Absolute Error (MAE): {mae:.6f}\")\n",
    "print(f\"Custom Accuracy (10% Tolerance): {custom_acc:.2f}%\")\n",
    "\n",
    "\n",
    "# --- Plotting a single engine ---\n",
    "dataset_to_plot = 'FD002' \n",
    "unit_to_plot = 47\n",
    "engine_id_to_plot = f\"{dataset_to_plot}_{unit_to_plot}\"\n",
    "\n",
    "engine_data_scaled = test_df_all[test_df_all['engine_id'] == engine_id_to_plot]\n",
    "engine_data_unscaled = test_df_unscaled[test_df_unscaled['engine_id'] == engine_id_to_plot]\n",
    "\n",
    "if len(engine_data_scaled) >= win_len:\n",
    "    X_engine, _ = create_sequences(engine_data_scaled, win_len)\n",
    "    X_tensor = torch.tensor(X_engine, dtype=torch.float32).to(device)\n",
    "    \n",
    "    with torch.no_grad():\n",
    "        y_pred_engine = model(X_tensor).cpu().numpy().flatten()\n",
    "\n",
    "    y_true_engine = engine_data_unscaled['Life_ratio'].values[win_len-1:]\n",
    "    time_steps = engine_data_unscaled['time_in_cycles'].values[win_len-1:]\n",
    "\n",
    "    plt.figure(figsize=(12, 7))\n",
    "    plt.plot(engine_data_unscaled['time_in_cycles'], engine_data_unscaled['Life_ratio'], \n",
    "             label=\"True Degradation Path (Life Ratio)\", color='navy', alpha=0.6)\n",
    "    plt.plot(time_steps, y_pred_engine, 'ro-', \n",
    "             label=\"Model Predictions\", markersize=4, linewidth=2)\n",
    "    \n",
    "    plt.title(f\"Life Ratio Prediction for Engine {unit_to_plot} ({dataset_to_plot})\", fontsize=16, weight='bold')\n",
    "    plt.xlabel(\"Time in Cycles\", fontsize=12)\n",
    "    plt.ylabel(\"Life Ratio (0=New, 1=Failure)\", fontsize=12)\n",
    "    plt.ylim(-0.05, 1.05)\n",
    "    plt.legend()\n",
    "    plt.grid(True, which='both', linestyle='--', linewidth=0.5)\n",
    "    plt.tight_layout()\n",
    "    plt.show()"
   ]
  },
  {
   "cell_type": "code",
   "execution_count": null,
   "metadata": {},
   "outputs": [],
   "source": []
  }
 ],
 "metadata": {
  "kernelspec": {
   "display_name": "Python 3",
   "language": "python",
   "name": "python3"
  },
  "language_info": {
   "codemirror_mode": {
    "name": "ipython",
    "version": 3
   },
   "file_extension": ".py",
   "mimetype": "text/x-python",
   "name": "python",
   "nbconvert_exporter": "python",
   "pygments_lexer": "ipython3",
   "version": "3.12.6"
  }
 },
 "nbformat": 4,
 "nbformat_minor": 2
}
