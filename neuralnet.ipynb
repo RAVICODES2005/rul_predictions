{
 "cells": [
  {
   "cell_type": "code",
   "execution_count": 1,
   "metadata": {},
   "outputs": [],
   "source": [
    "import pandas as pd\n",
    "import numpy as np\n",
    "import matplotlib.pyplot as plt\n",
    "import seaborn as sns\n",
    "import pickle\n",
    "from sklearn.model_selection import train_test_split\n",
    "from sklearn.ensemble import RandomForestRegressor\n",
    "from sklearn.metrics import mean_squared_error"
   ]
  },
  {
   "cell_type": "code",
   "execution_count": 2,
   "metadata": {},
   "outputs": [
    {
     "name": "stdout",
     "output_type": "stream",
     "text": [
      "Processed train_FD001.txt, number of rows: 20631\n",
      "Processed train_FD002.txt, number of rows: 53759\n",
      "Processed train_FD003.txt, number of rows: 24720\n",
      "Processed train_FD004.txt, number of rows: 61249\n"
     ]
    }
   ],
   "source": [
    "columns = ['unit_number','time_in_cycles','setting_1','setting_2','TRA','T2','T24','T30','T50','P2','P15','P30','Nf',\n",
    "           'Nc','epr','Ps30','phi','NRf','NRc','BPR','farB','htBleed','Nf_dmd','PCNfR_dmd','W31','W32' ]\n",
    "\n",
    "train_data_processed = []\n",
    "for idx in range(1, 5):\n",
    "    train_data = pd.read_csv(rf\"train_FD00{idx}.txt\",sep=\" \",header=None)\n",
    "    train_data.drop(columns=[26,27],inplace=True)\n",
    "\n",
    "    train_data.columns = columns\n",
    "    train_data.drop(columns=['Nf_dmd','PCNfR_dmd','P2','T2','TRA','farB','epr'],inplace=True)\n",
    "    train_data['RUL'] =  train_data['time_in_cycles'] / train_data.groupby('unit_number')['time_in_cycles'].transform('max') \n",
    "\n",
    "    train_data.drop(columns=['unit_number', 'setting_1', 'setting_2'],inplace=True)\n",
    "\n",
    "    train_data_processed.append(train_data)\n",
    "    print(f\"Processed train_FD00{idx}.txt, number of rows: {train_data.shape[0]}\")\n",
    "train_data_processed = pd.concat(train_data_processed, ignore_index=True)"
   ]
  },
  {
   "cell_type": "code",
   "execution_count": 3,
   "metadata": {},
   "outputs": [
    {
     "name": "stdout",
     "output_type": "stream",
     "text": [
      "Processed test_FD001.txt, number of rows: 13096\n",
      "Processed test_FD002.txt, number of rows: 33991\n",
      "Processed test_FD003.txt, number of rows: 16596\n",
      "Processed test_FD004.txt, number of rows: 41214\n"
     ]
    }
   ],
   "source": [
    "test_data_processed = []\n",
    "\n",
    "for idx in range(1,5):\n",
    "\n",
    "    test_data_rul = pd.read_csv(rf\"RUL_FD00{idx}.txt\",sep=\" \",header=None)\n",
    "    test_data = pd.read_csv(rf\"test_FD00{idx}.txt\",sep=\" \",header=None)\n",
    "\n",
    "\n",
    "    test_data.drop(columns=[26,27],inplace=True)\n",
    "    columns = ['unit_number','time_in_cycles','setting_1','setting_2','TRA','T2','T24','T30','T50','P2','P15','P30','Nf',\n",
    "            'Nc','epr','Ps30','phi','NRf','NRc','BPR','farB','htBleed','Nf_dmd','PCNfR_dmd','W31','W32' ]\n",
    "\n",
    "    test_data.columns = columns\n",
    "    test_data.drop(columns=['Nf_dmd','PCNfR_dmd','P2','T2','TRA','farB','epr'],inplace=True)\n",
    "\n",
    "    eol = []\n",
    "    for un in test_data['unit_number'].unique():\n",
    "        temp_data = test_data[test_data['unit_number'] == un]\n",
    "        eol_temp = test_data_rul.iloc[un-1].values[0]\n",
    "        eol_temp_list = [eol_temp for i in range(len(temp_data))]\n",
    "\n",
    "        eol.extend(eol_temp_list)\n",
    "\n",
    "\n",
    "    test_data['RUL'] = test_data['time_in_cycles'].values / (test_data.groupby('unit_number')['time_in_cycles'].transform('max').values + eol)  \n",
    "    test_data.drop(columns=['unit_number', 'setting_1', 'setting_2'],inplace=True)\n",
    "\n",
    "    test_data_processed.append(test_data)\n",
    "\n",
    "    print(f\"Processed test_FD00{idx}.txt, number of rows: {test_data.shape[0]}\")\n",
    "test_data_processed = pd.concat(test_data_processed, ignore_index=True)\n"
   ]
  },
  {
   "cell_type": "code",
   "execution_count": 4,
   "metadata": {},
   "outputs": [],
   "source": [
    "import torch\n",
    "import torch.nn as nn\n",
    "import torch.optim as optim\n",
    "from torch.utils.data import Dataset, DataLoader\n",
    "# Set device\n",
    "device = torch.device(\"cuda\" if torch.cuda.is_available() else \"cpu\")"
   ]
  },
  {
   "cell_type": "code",
   "execution_count": 5,
   "metadata": {},
   "outputs": [],
   "source": [
    "# 1. Dataset class\n",
    "class RULDataset(Dataset):\n",
    "    def __init__(self, dataframe):\n",
    "        self.X = dataframe.drop(columns=[\"RUL\"]).values.astype(np.float32)\n",
    "        self.y = dataframe[\"RUL\"].values.astype(np.float32).reshape(-1, 1)\n",
    "\n",
    "    def __len__(self):\n",
    "        return len(self.X)\n",
    "\n",
    "    def __getitem__(self, idx):\n",
    "        return torch.tensor(self.X[idx]), torch.tensor(self.y[idx])\n",
    "\n",
    "# 2. Neural Network model\n",
    "class RULModel(nn.Module):\n",
    "    def __init__(self, input_dim):\n",
    "        super(RULModel, self).__init__()\n",
    "        self.model = nn.Sequential(\n",
    "            nn.Linear(input_dim, 256),\n",
    "            nn.LeakyReLU(),\n",
    "\n",
    "            nn.Linear(256, 256),\n",
    "            nn.LeakyReLU(),\n",
    "\n",
    "            nn.Linear(256, 256),\n",
    "            nn.LeakyReLU(),\n",
    "\n",
    "            nn.Linear(256, 1)\n",
    "        )\n",
    "\n",
    "    def forward(self, x):\n",
    "        return self.model(x)\n",
    "\n"
   ]
  },
  {
   "cell_type": "code",
   "execution_count": 6,
   "metadata": {},
   "outputs": [
    {
     "name": "stderr",
     "output_type": "stream",
     "text": [
      "C:\\Users\\rsree\\AppData\\Local\\Temp\\ipykernel_9960\\1275619669.py:6: FutureWarning: Setting an item of incompatible dtype is deprecated and will raise in a future error of pandas. Value '[-1.46438155 -1.45241094 -1.44044032 ...  1.55221385  1.56418447\n",
      "  1.57615508]' has dtype incompatible with int64, please explicitly cast to a compatible dtype first.\n",
      "  train_data_processed.loc[:, features.columns] = scaled_features\n",
      "C:\\Users\\rsree\\AppData\\Local\\Temp\\ipykernel_9960\\1275619669.py:6: FutureWarning: Setting an item of incompatible dtype is deprecated and will raise in a future error of pandas. Value '[ 1.00902172  1.00902172  0.94454996 ...  1.10572936 -0.76395171\n",
      " -0.89289524]' has dtype incompatible with int64, please explicitly cast to a compatible dtype first.\n",
      "  train_data_processed.loc[:, features.columns] = scaled_features\n",
      "C:\\Users\\rsree\\AppData\\Local\\Temp\\ipykernel_9960\\1275619669.py:11: FutureWarning: Setting an item of incompatible dtype is deprecated and will raise in a future error of pandas. Value '[-1.46438155 -1.45241094 -1.44044032 ...  1.86344988  1.8754205\n",
      "  1.88739112]' has dtype incompatible with int64, please explicitly cast to a compatible dtype first.\n",
      "  test_data_processed.loc[:, test_features.columns] = test_scaled_features\n",
      "C:\\Users\\rsree\\AppData\\Local\\Temp\\ipykernel_9960\\1275619669.py:11: FutureWarning: Setting an item of incompatible dtype is deprecated and will raise in a future error of pandas. Value '[ 1.00902172  1.0412576   1.0412576  ... -0.79618759  0.17088882\n",
      " -0.82842348]' has dtype incompatible with int64, please explicitly cast to a compatible dtype first.\n",
      "  test_data_processed.loc[:, test_features.columns] = test_scaled_features\n"
     ]
    }
   ],
   "source": [
    "# Normalize the features\n",
    "from sklearn.preprocessing import StandardScaler\n",
    "scaler = StandardScaler()\n",
    "features = train_data_processed.drop(columns=['RUL'])\n",
    "scaled_features = scaler.fit_transform(features)\n",
    "train_data_processed.loc[:, features.columns] = scaled_features\n",
    "\n",
    "# Normalize test data using the same scaler\n",
    "test_features = test_data_processed.drop(columns=['RUL'])\n",
    "test_scaled_features = scaler.transform(test_features)\n",
    "test_data_processed.loc[:, test_features.columns] = test_scaled_features"
   ]
  },
  {
   "cell_type": "code",
   "execution_count": 7,
   "metadata": {},
   "outputs": [],
   "source": [
    "# 4. Dataset & Dataloader\n",
    "dataset = RULDataset(train_data_processed)\n",
    "dataloader = DataLoader(dataset, batch_size=32, shuffle=True)\n",
    "\n",
    "# Create TEST Dataset and DataLoader\n",
    "test_dataset = RULDataset(test_data_processed)\n",
    "test_loader = DataLoader(test_dataset, batch_size=32, shuffle=False)\n",
    "\n",
    "# 5. Training Setup\n",
    "input_dim = train_data_processed.shape[1] - 1  # Exclude RUL\n",
    "model = RULModel(input_dim).to(device)\n",
    "\n",
    "# ###########################################################Load the model if it exists\n",
    "# model.load_state_dict(torch.load(\"rul_ann_model.pth\"))\n",
    "# model.to(device)\n",
    "# model.eval()\n",
    "# ##########################################################\n",
    "\n",
    "criterion = nn.MSELoss()\n",
    "optimizer = optim.AdamW(model.parameters(), lr=1e-4)\n",
    "\n",
    "def evaluate_model(model, test_loader):\n",
    "    # 3. Run inference\n",
    "    model.eval()\n",
    "    all_preds = []\n",
    "    all_targets = []\n",
    "\n",
    "    with torch.no_grad():\n",
    "        for X_batch, y_batch in test_loader:\n",
    "            X_batch = X_batch.to(device)\n",
    "            outputs = model(X_batch)\n",
    "            all_preds.append(outputs.cpu().numpy())\n",
    "            all_targets.append(y_batch.numpy())\n",
    "\n",
    "    # 4. Calculate MSE\n",
    "    preds = np.vstack(all_preds)\n",
    "    targets = np.vstack(all_targets)\n",
    "    mse = mean_squared_error(targets, preds)\n",
    "    return mse"
   ]
  },
  {
   "cell_type": "code",
   "execution_count": 8,
   "metadata": {},
   "outputs": [
    {
     "name": "stdout",
     "output_type": "stream",
     "text": [
      "Epoch [1/50], Loss: 0.0085, Test MSE: 0.0058\n",
      "Epoch [2/50], Loss: 0.0053, Test MSE: 0.0055\n",
      "Epoch [3/50], Loss: 0.0051, Test MSE: 0.0055\n",
      "Epoch [4/50], Loss: 0.0049, Test MSE: 0.0053\n",
      "Epoch [5/50], Loss: 0.0048, Test MSE: 0.0060\n",
      "Epoch [6/50], Loss: 0.0048, Test MSE: 0.0056\n",
      "Epoch [7/50], Loss: 0.0047, Test MSE: 0.0054\n",
      "Epoch [8/50], Loss: 0.0047, Test MSE: 0.0050\n",
      "Epoch [9/50], Loss: 0.0046, Test MSE: 0.0051\n",
      "Epoch [10/50], Loss: 0.0046, Test MSE: 0.0057\n",
      "Epoch [11/50], Loss: 0.0046, Test MSE: 0.0051\n",
      "Epoch [12/50], Loss: 0.0045, Test MSE: 0.0055\n",
      "Epoch [13/50], Loss: 0.0045, Test MSE: 0.0050\n",
      "Epoch [14/50], Loss: 0.0045, Test MSE: 0.0052\n",
      "Epoch [15/50], Loss: 0.0045, Test MSE: 0.0055\n",
      "Epoch [16/50], Loss: 0.0045, Test MSE: 0.0049\n",
      "Epoch [17/50], Loss: 0.0045, Test MSE: 0.0054\n",
      "Epoch [18/50], Loss: 0.0045, Test MSE: 0.0050\n",
      "Epoch [19/50], Loss: 0.0044, Test MSE: 0.0053\n",
      "Epoch [20/50], Loss: 0.0044, Test MSE: 0.0050\n",
      "Epoch [21/50], Loss: 0.0044, Test MSE: 0.0052\n",
      "Epoch [22/50], Loss: 0.0044, Test MSE: 0.0052\n",
      "Epoch [23/50], Loss: 0.0044, Test MSE: 0.0054\n",
      "Epoch [24/50], Loss: 0.0044, Test MSE: 0.0052\n",
      "Epoch [25/50], Loss: 0.0044, Test MSE: 0.0053\n",
      "Epoch [26/50], Loss: 0.0044, Test MSE: 0.0055\n",
      "Epoch [27/50], Loss: 0.0044, Test MSE: 0.0054\n",
      "Epoch [28/50], Loss: 0.0044, Test MSE: 0.0050\n",
      "Epoch [29/50], Loss: 0.0044, Test MSE: 0.0050\n",
      "Epoch [30/50], Loss: 0.0044, Test MSE: 0.0052\n",
      "Epoch [31/50], Loss: 0.0044, Test MSE: 0.0051\n",
      "Epoch [32/50], Loss: 0.0044, Test MSE: 0.0052\n",
      "Epoch [33/50], Loss: 0.0044, Test MSE: 0.0051\n",
      "Epoch [34/50], Loss: 0.0043, Test MSE: 0.0050\n",
      "Epoch [35/50], Loss: 0.0043, Test MSE: 0.0050\n",
      "Epoch [36/50], Loss: 0.0043, Test MSE: 0.0053\n",
      "Epoch [37/50], Loss: 0.0043, Test MSE: 0.0050\n",
      "Epoch [38/50], Loss: 0.0043, Test MSE: 0.0052\n",
      "Epoch [39/50], Loss: 0.0043, Test MSE: 0.0053\n",
      "Epoch [40/50], Loss: 0.0043, Test MSE: 0.0052\n",
      "Epoch [41/50], Loss: 0.0043, Test MSE: 0.0050\n",
      "Epoch [42/50], Loss: 0.0043, Test MSE: 0.0058\n",
      "Epoch [43/50], Loss: 0.0043, Test MSE: 0.0052\n",
      "Epoch [44/50], Loss: 0.0043, Test MSE: 0.0049\n",
      "Epoch [45/50], Loss: 0.0043, Test MSE: 0.0051\n",
      "Epoch [46/50], Loss: 0.0043, Test MSE: 0.0050\n",
      "Epoch [47/50], Loss: 0.0043, Test MSE: 0.0051\n",
      "Epoch [48/50], Loss: 0.0043, Test MSE: 0.0051\n",
      "Epoch [49/50], Loss: 0.0043, Test MSE: 0.0051\n",
      "Epoch [50/50], Loss: 0.0043, Test MSE: 0.0053\n"
     ]
    }
   ],
   "source": [
    "# 6. Training Loop\n",
    "best_mse = float(\"inf\")\n",
    "epochs = 50\n",
    "for epoch in range(epochs):\n",
    "    model.train()\n",
    "    running_loss = 0.0\n",
    "    for X_batch, y_batch in dataloader:\n",
    "        X_batch, y_batch = X_batch.to(device), y_batch.to(device)\n",
    "\n",
    "        # Forward pass\n",
    "\n",
    "        optimizer.zero_grad()\n",
    "        outputs = model(X_batch)\n",
    "        loss = criterion(outputs, y_batch)\n",
    "        loss.backward()\n",
    "        optimizer.step()\n",
    "\n",
    "        running_loss += loss.item()\n",
    "\n",
    "    val_mse = evaluate_model(model, test_loader)\n",
    "    if val_mse < best_mse:\n",
    "        best_mse = val_mse\n",
    "        torch.save(model.state_dict(), \"rul_ann_model.pth\")\n",
    "\n",
    "    print(f\"Epoch [{epoch+1}/{epochs}], Loss: {running_loss/len(dataloader):.4f}, Test MSE: {val_mse:.4f}\")"
   ]
  },
  {
   "cell_type": "markdown",
   "metadata": {},
   "source": [
    "# Visualize Test Results"
   ]
  },
  {
   "cell_type": "code",
   "execution_count": 19,
   "metadata": {},
   "outputs": [],
   "source": [
    "\n",
    "idx=4\n",
    "\n",
    "test_data_rul = pd.read_csv(rf\"RUL_FD00{idx}.txt\",sep=\" \",header=None)\n",
    "test_data = pd.read_csv(rf\"test_FD00{idx}.txt\",sep=\" \",header=None)\n",
    "\n",
    "\n",
    "test_data.drop(columns=[26,27],inplace=True)\n",
    "columns = ['unit_number','time_in_cycles','setting_1','setting_2','TRA','T2','T24','T30','T50','P2','P15','P30','Nf',\n",
    "        'Nc','epr','Ps30','phi','NRf','NRc','BPR','farB','htBleed','Nf_dmd','PCNfR_dmd','W31','W32' ]\n",
    "\n",
    "test_data.columns = columns\n",
    "test_data.drop(columns=['Nf_dmd','PCNfR_dmd','P2','T2','TRA','farB','epr'],inplace=True)\n",
    "\n",
    "eol = []\n",
    "for un in test_data['unit_number'].unique():\n",
    "    temp_data = test_data[test_data['unit_number'] == un]\n",
    "    eol_temp = test_data_rul.iloc[un-1].values[0]\n",
    "    eol_temp_list = [eol_temp for i in range(len(temp_data))]\n",
    "\n",
    "    eol.extend(eol_temp_list)\n",
    "\n",
    "\n",
    "test_data['RUL'] = test_data['time_in_cycles'].values / (test_data.groupby('unit_number')['time_in_cycles'].transform('max').values + eol) \n",
    "# test_data.drop(columns=['unit_number', 'setting_1', 'setting_2'],inplace=True)\n",
    "\n",
    "\n"
   ]
  },
  {
   "cell_type": "code",
   "execution_count": 26,
   "metadata": {},
   "outputs": [
    {
     "data": {
      "image/png": "[encoded data removed]",
      "text/plain": [
       "<Figure size 1000x600 with 1 Axes>"
      ]
     },
     "metadata": {},
     "output_type": "display_data"
    }
   ],
   "source": [
    "# --- This cell is for visualizing the results for a single engine ---\n",
    "\n",
    "# Select an example unit number to visualize\n",
    "unit_id = 223\n",
    "unit_data = test_data[test_data['unit_number'] == unit_id]\n",
    "\n",
    "# The 'RUL' column already contains the \"life used up\" ratio (0 to 1)\n",
    "true_life_ratio = unit_data['RUL'].values\n",
    "\n",
    "# Prepare the features for prediction\n",
    "# Note: We are using the original 'test_data' dataframe which still has the unit_number\n",
    "# before it was dropped for the main training/evaluation.\n",
    "X_for_prediction = scaler.transform(unit_data.drop(columns=['unit_number','setting_1','setting_2','RUL']))\n",
    "X_for_prediction_tensor = torch.tensor(X_for_prediction).float().to(device)\n",
    "\n",
    "# Get the model's predictions\n",
    "model.eval()\n",
    "with torch.no_grad():\n",
    "    predicted_life_ratio = model(X_for_prediction_tensor).cpu().numpy().flatten()\n",
    "\n",
    "# --- Plotting the Corrected Graph ---\n",
    "\n",
    "plt.figure(figsize=(10, 6))\n",
    "\n",
    "# Plot the life ratio directly, so it goes UP from 0 to 1\n",
    "plt.plot(unit_data['time_in_cycles'], true_life_ratio, label='True Degradation (Life Ratio)', marker='o', linestyle='-')\n",
    "plt.plot(unit_data['time_in_cycles'], predicted_life_ratio, label='Predicted Degradation (Life Ratio)', marker='s', linestyle='--')\n",
    "\n",
    "plt.xlabel('Time in Cycles')\n",
    "plt.ylabel('Degradation Level (Life Ratio Used Up)') # Updated Y-axis label\n",
    "plt.title(f'Engine Degradation Profile for Unit {unit_id}') # Updated Title\n",
    "plt.legend()\n",
    "plt.grid(True)\n",
    "plt.show()"
   ]
  },
  {
   "cell_type": "code",
   "execution_count": 11,
   "metadata": {},
   "outputs": [
    {
     "name": "stderr",
     "output_type": "stream",
     "text": [
      "C:\\Users\\rsree\\AppData\\Local\\Temp\\ipykernel_9960\\115161934.py:8: FutureWarning: You are using `torch.load` with `weights_only=False` (the current default value), which uses the default pickle module implicitly. It is possible to construct malicious pickle data which will execute arbitrary code during unpickling (See https://github.com/pytorch/pytorch/blob/main/SECURITY.md#untrusted-models for more details). In a future release, the default value for `weights_only` will be flipped to `True`. This limits the functions that could be executed during unpickling. Arbitrary objects will no longer be allowed to be loaded via this mode unless they are explicitly allowlisted by the user via `torch.serialization.add_safe_globals`. We recommend you start setting `weights_only=True` for any use case where you don't have full control of the loaded file. Please open an issue on GitHub for any issues related to this experimental feature.\n",
      "  model.load_state_dict(torch.load(\"rul_ann_model.pth\"))\n"
     ]
    },
    {
     "name": "stdout",
     "output_type": "stream",
     "text": [
      "--- Model Performance on Test Data ---\n",
      "Mean Squared Error (MSE): 0.004948\n",
      "Root Mean Squared Error (RMSE): 0.070341\n",
      "Mean Absolute Error (MAE): 0.051121\n",
      "R-squared (R²) Score: 0.913000\n"
     ]
    }
   ],
   "source": [
    "from sklearn.metrics import mean_absolute_error, r2_score\n",
    "import numpy as np\n",
    "\n",
    "# Make sure the model is in evaluation mode\n",
    "model.eval()\n",
    "\n",
    "# Load the best performing model that was saved during training\n",
    "model.load_state_dict(torch.load(\"rul_ann_model.pth\"))\n",
    "model.to(device)\n",
    "\n",
    "all_preds = []\n",
    "all_targets = []\n",
    "\n",
    "# We don't need to calculate gradients for evaluation\n",
    "with torch.no_grad():\n",
    "    # Loop through the test data loader\n",
    "    for X_batch, y_batch in test_loader:\n",
    "        # Move data to the same device as the model (CPU or GPU)\n",
    "        X_batch = X_batch.to(device)\n",
    "        \n",
    "        # Get the model's predictions\n",
    "        outputs = model(X_batch)\n",
    "        \n",
    "        # Add the predictions and true targets to our lists\n",
    "        all_preds.append(outputs.cpu().numpy())\n",
    "        all_targets.append(y_batch.numpy())\n",
    "\n",
    "# Combine the lists of predictions and targets into single numpy arrays\n",
    "preds = np.vstack(all_preds)\n",
    "targets = np.vstack(all_targets)\n",
    "\n",
    "# --- Calculate and Print the Metrics ---\n",
    "\n",
    "# Calculate Mean Squared Error (MSE) and Root Mean Squared Error (RMSE)\n",
    "mse = mean_squared_error(targets, preds)\n",
    "rmse = np.sqrt(mse)\n",
    "\n",
    "# Calculate Mean Absolute Error (MAE)\n",
    "mae = mean_absolute_error(targets, preds)\n",
    "\n",
    "# Calculate R-squared (Coefficient of Determination)\n",
    "r2 = r2_score(targets, preds)\n",
    "\n",
    "print(f\"--- Model Performance on Test Data ---\")\n",
    "print(f\"Mean Squared Error (MSE): {mse:.6f}\")\n",
    "print(f\"Root Mean Squared Error (RMSE): {rmse:.6f}\")\n",
    "print(f\"Mean Absolute Error (MAE): {mae:.6f}\")\n",
    "print(f\"R-squared (R²) Score: {r2:.6f}\")"
   ]
  },
  {
   "cell_type": "code",
   "execution_count": 12,
   "metadata": {},
   "outputs": [
    {
     "name": "stdout",
     "output_type": "stream",
     "text": [
      "\n",
      "--- Custom Accuracy Metric ---\n",
      "Accuracy with fixed tolerance of ±0.1: 84.82%\n"
     ]
    }
   ],
   "source": [
    "# --- A More Stable Custom Accuracy ---\n",
    "# Using a fixed absolute tolerance instead of a percentage\n",
    "\n",
    "# Define your tolerance. For RUL from 0 to 1, a value like 0.05 is a good start.\n",
    "# This means we count a prediction as \"correct\" if it's within 0.05 of the true RUL.\n",
    "absolute_tolerance = 0.10\n",
    "\n",
    "# Assuming 'preds' and 'targets' are your numpy arrays of predictions and true values\n",
    "absolute_errors = np.abs(preds - targets)\n",
    "\n",
    "# Check which predictions are within the fixed tolerance\n",
    "within_tolerance_fixed = absolute_errors < absolute_tolerance\n",
    "\n",
    "# Calculate the percentage of \"correct\" predictions\n",
    "accuracy_fixed = np.mean(within_tolerance_fixed) * 100\n",
    "\n",
    "print(f\"\\n--- Custom Accuracy Metric ---\")\n",
    "print(f\"Accuracy with fixed tolerance of ±{absolute_tolerance}: {accuracy_fixed:.2f}%\")"
   ]
  }
 ],
 "metadata": {
  "kernelspec": {
   "display_name": "Python 3",
   "language": "python",
   "name": "python3"
  },
  "language_info": {
   "codemirror_mode": {
    "name": "ipython",
    "version": 3
   },
   "file_extension": ".py",
   "mimetype": "text/x-python",
   "name": "python",
   "nbconvert_exporter": "python",
   "pygments_lexer": "ipython3",
   "version": "3.12.6"
  }
 },
 "nbformat": 4,
 "nbformat_minor": 2
}
